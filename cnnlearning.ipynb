{
 "cells": [
  {
   "cell_type": "code",
   "execution_count": 1,
   "metadata": {},
   "outputs": [],
   "source": [
    "import tensorflow as tf\n",
    "from tensorflow.keras import layers, models\n",
    "from tensorflow.keras.preprocessing.image import ImageDataGenerator"
   ]
  },
  {
   "cell_type": "code",
   "execution_count": 2,
   "metadata": {},
   "outputs": [],
   "source": [
    "train_data_dir = 'dataset'\n",
    "batch_size = 32\n",
    "img_size = (128, 128)"
   ]
  },
  {
   "cell_type": "code",
   "execution_count": 3,
   "metadata": {},
   "outputs": [
    {
     "name": "stdout",
     "output_type": "stream",
     "text": [
      "Found 1062 images belonging to 3 classes.\n"
     ]
    }
   ],
   "source": [
    "datagen = ImageDataGenerator(rescale=1./255, validation_split=0.2)\n",
    "\n",
    "train_generator = datagen.flow_from_directory(\n",
    "    train_data_dir,\n",
    "    target_size=img_size,\n",
    "    batch_size=batch_size,\n",
    "    class_mode='categorical',\n",
    "    subset='training'\n",
    ")"
   ]
  },
  {
   "cell_type": "code",
   "execution_count": 4,
   "metadata": {},
   "outputs": [
    {
     "name": "stdout",
     "output_type": "stream",
     "text": [
      "Found 264 images belonging to 3 classes.\n"
     ]
    }
   ],
   "source": [
    "\n",
    "validation_generator = datagen.flow_from_directory(\n",
    "    train_data_dir,\n",
    "    target_size=img_size,\n",
    "    batch_size=batch_size,\n",
    "    class_mode='categorical',\n",
    "    subset='validation'\n",
    ")"
   ]
  },
  {
   "cell_type": "code",
   "execution_count": 5,
   "metadata": {},
   "outputs": [
    {
     "name": "stderr",
     "output_type": "stream",
     "text": [
      "2023-12-30 01:08:40.343407: I tensorflow/core/platform/cpu_feature_guard.cc:151] This TensorFlow binary is optimized with oneAPI Deep Neural Network Library (oneDNN) to use the following CPU instructions in performance-critical operations:  AVX2 FMA\n",
      "To enable them in other operations, rebuild TensorFlow with the appropriate compiler flags.\n"
     ]
    }
   ],
   "source": [
    "model = models.Sequential()\n",
    "model.add(layers.Conv2D(32, (3, 3), activation='relu', input_shape=(128, 128, 3)))\n",
    "model.add(layers.MaxPooling2D((2, 2)))\n",
    "model.add(layers.Conv2D(64, (3, 3), activation='relu'))\n",
    "model.add(layers.MaxPooling2D((2, 2)))\n",
    "model.add(layers.Conv2D(128, (3, 3), activation='relu'))\n",
    "model.add(layers.MaxPooling2D((2, 2)))\n",
    "model.add(layers.Flatten())\n",
    "model.add(layers.Dense(128, activation='relu'))\n",
    "model.add(layers.Dropout(0.5))\n",
    "model.add(layers.Dense(3, activation='softmax')) "
   ]
  },
  {
   "cell_type": "code",
   "execution_count": 6,
   "metadata": {},
   "outputs": [],
   "source": [
    "model.compile(optimizer='adam',\n",
    "              loss='categorical_crossentropy',\n",
    "              metrics=['accuracy'])"
   ]
  },
  {
   "cell_type": "code",
   "execution_count": 7,
   "metadata": {},
   "outputs": [
    {
     "name": "stdout",
     "output_type": "stream",
     "text": [
      "Epoch 1/10\n",
      "33/33 [==============================] - 29s 855ms/step - loss: 0.8589 - accuracy: 0.5893 - val_loss: 0.6414 - val_accuracy: 0.7109\n",
      "Epoch 2/10\n",
      "33/33 [==============================] - 29s 865ms/step - loss: 0.5686 - accuracy: 0.7534 - val_loss: 0.5044 - val_accuracy: 0.8086\n",
      "Epoch 3/10\n",
      "33/33 [==============================] - 41s 1s/step - loss: 0.4945 - accuracy: 0.8233 - val_loss: 0.6067 - val_accuracy: 0.7578\n",
      "Epoch 4/10\n",
      "33/33 [==============================] - 33s 986ms/step - loss: 0.3952 - accuracy: 0.8573 - val_loss: 0.3674 - val_accuracy: 0.8789\n",
      "Epoch 5/10\n",
      "33/33 [==============================] - 31s 919ms/step - loss: 0.3257 - accuracy: 0.8893 - val_loss: 0.4831 - val_accuracy: 0.7930\n",
      "Epoch 6/10\n",
      "33/33 [==============================] - 29s 874ms/step - loss: 0.2644 - accuracy: 0.9204 - val_loss: 0.3615 - val_accuracy: 0.8789\n",
      "Epoch 7/10\n",
      "33/33 [==============================] - 29s 870ms/step - loss: 0.2435 - accuracy: 0.9223 - val_loss: 0.3353 - val_accuracy: 0.8828\n",
      "Epoch 8/10\n",
      "33/33 [==============================] - 29s 878ms/step - loss: 0.2319 - accuracy: 0.9194 - val_loss: 0.3386 - val_accuracy: 0.8945\n",
      "Epoch 9/10\n",
      "33/33 [==============================] - 30s 898ms/step - loss: 0.1980 - accuracy: 0.9369 - val_loss: 0.3871 - val_accuracy: 0.8906\n",
      "Epoch 10/10\n",
      "33/33 [==============================] - 29s 874ms/step - loss: 0.1392 - accuracy: 0.9553 - val_loss: 0.3251 - val_accuracy: 0.9023\n"
     ]
    }
   ],
   "source": [
    "history = model.fit(\n",
    "    train_generator,\n",
    "    steps_per_epoch=train_generator.samples // batch_size,\n",
    "    epochs=10,\n",
    "    validation_data=validation_generator,\n",
    "    validation_steps=validation_generator.samples // batch_size\n",
    ")"
   ]
  },
  {
   "cell_type": "code",
   "execution_count": 8,
   "metadata": {},
   "outputs": [],
   "source": [
    "model.save('mymodel.h5')"
   ]
  },
  {
   "cell_type": "code",
   "execution_count": 27,
   "metadata": {},
   "outputs": [
    {
     "name": "stdout",
     "output_type": "stream",
     "text": [
      "Predicted class: Forest\n",
      "Confidence: [4.2478267e-05 9.9995506e-01 2.4740459e-06]\n"
     ]
    }
   ],
   "source": [
    "import numpy as np\n",
    "from tensorflow.keras.preprocessing import image\n",
    "\n",
    "# Load the trained model\n",
    "model = tf.keras.models.load_model('mymodel.h5')\n",
    "\n",
    "# Function to preprocess the input image\n",
    "def preprocess_image(image_path, img_size=(128, 128)):\n",
    "    img = image.load_img(image_path, target_size=img_size)\n",
    "    img_array = image.img_to_array(img)\n",
    "    img_array = np.expand_dims(img_array, axis=0)\n",
    "    img_array /= 255.0  # Normalize the image\n",
    "    return img_array\n",
    "\n",
    "# Function to make predictions\n",
    "def predict_image_class(image_path):\n",
    "    img_array = preprocess_image(image_path)\n",
    "    predictions = model.predict(img_array)\n",
    "    class_index = np.argmax(predictions)\n",
    "    \n",
    "    # Assuming class indices 0, 1, 2 correspond to Buildings, Forest, Sea\n",
    "    class_labels = {0: 'Buildings', 1: 'Forest', 2: 'Sea'}\n",
    "    predicted_class = class_labels[class_index]\n",
    "    \n",
    "    return predicted_class, predictions[0]\n",
    "\n",
    "# Test the model on a new image\n",
    "image_path_to_test = 'dataset/forest/1004.jpg'  # Replace with the path to your test image\n",
    "predicted_class, confidence = predict_image_class(image_path_to_test)\n",
    "\n",
    "print(f\"Predicted class: {predicted_class}\")\n",
    "print(f\"Confidence: {confidence}\")"
   ]
  }
 ],
 "metadata": {
  "kernelspec": {
   "display_name": "base",
   "language": "python",
   "name": "python3"
  },
  "language_info": {
   "codemirror_mode": {
    "name": "ipython",
    "version": 3
   },
   "file_extension": ".py",
   "mimetype": "text/x-python",
   "name": "python",
   "nbconvert_exporter": "python",
   "pygments_lexer": "ipython3",
   "version": "3.8.10"
  }
 },
 "nbformat": 4,
 "nbformat_minor": 2
}
