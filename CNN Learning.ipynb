{
 "cells": [
  {
   "cell_type": "code",
   "execution_count": 2,
   "metadata": {},
   "outputs": [],
   "source": [
    "import tensorflow as tf\n",
    "from tensorflow.keras import layers, models\n",
    "from tensorflow.keras.preprocessing.image import ImageDataGenerator"
   ]
  },
  {
   "cell_type": "code",
   "execution_count": 4,
   "metadata": {},
   "outputs": [],
   "source": [
    "train_data_dir = 'dataset'\n",
    "batch_size = 32\n",
    "image_size = (128,128)"
   ]
  },
  {
   "cell_type": "code",
   "execution_count": 7,
   "metadata": {},
   "outputs": [
    {
     "name": "stdout",
     "output_type": "stream",
     "text": [
      "Found 1062 images belonging to 3 classes.\n"
     ]
    }
   ],
   "source": [
    "datagen = ImageDataGenerator(rescale=1./255, validation_split=0.2)\n",
    "\n",
    "train_generator = datagen.flow_from_directory(\n",
    "    train_data_dir,\n",
    "    target_size = image_size,\n",
    "    batch_size = batch_size,\n",
    "    class_mode = 'categorical',\n",
    "    subset = 'training'\n",
    ")"
   ]
  },
  {
   "cell_type": "code",
   "execution_count": 8,
   "metadata": {},
   "outputs": [
    {
     "name": "stdout",
     "output_type": "stream",
     "text": [
      "Found 264 images belonging to 3 classes.\n"
     ]
    }
   ],
   "source": [
    "validation_generator = datagen.flow_from_directory(\n",
    "    train_data_dir,\n",
    "    target_size = image_size,\n",
    "    batch_size = batch_size,\n",
    "    class_mode = 'categorical',\n",
    "    subset = 'validation'\n",
    ")"
   ]
  },
  {
   "cell_type": "code",
   "execution_count": 10,
   "metadata": {},
   "outputs": [],
   "source": [
    "model = models.Sequential()\n",
    "model.add(layers.Conv2D(32,(3,3), activation = 'relu', input_shape = (128,128,3)))\n",
    "model.add(layers.MaxPooling2D((2,2)))\n",
    "model.add(layers.Conv2D(64,(3,3), activation = 'relu'))\n",
    "model.add(layers.MaxPooling2D((2,2)))\n",
    "model.add(layers.Conv2D(128,(3,3),activation = 'relu'))\n",
    "model.add(layers.MaxPooling2D((2,2)))\n",
    "model.add(layers.Flatten())\n",
    "model.add(layers.Dense(128, activation= 'relu'))\n",
    "model.add(layers.Dropout(0.5))\n",
    "model.add(layers.Dense(3, activation = 'softmax'))"
   ]
  },
  {
   "cell_type": "code",
   "execution_count": 16,
   "metadata": {},
   "outputs": [],
   "source": [
    "model.compile(optimizer='adam',\n",
    "              loss='categorical_crossentropy',\n",
    "              metrics=['accuracy'])"
   ]
  },
  {
   "cell_type": "code",
   "execution_count": 17,
   "metadata": {},
   "outputs": [
    {
     "name": "stdout",
     "output_type": "stream",
     "text": [
      "Epoch 1/10\n",
      "33/33 [==============================] - 31s 898ms/step - loss: 0.8108 - accuracy: 0.6039 - val_loss: 0.5761 - val_accuracy: 0.7578\n",
      "Epoch 2/10\n",
      "33/33 [==============================] - 24s 731ms/step - loss: 0.5361 - accuracy: 0.7825 - val_loss: 0.4823 - val_accuracy: 0.7969\n",
      "Epoch 3/10\n",
      "33/33 [==============================] - 24s 728ms/step - loss: 0.3823 - accuracy: 0.8592 - val_loss: 0.5790 - val_accuracy: 0.7734\n",
      "Epoch 4/10\n",
      "33/33 [==============================] - 26s 800ms/step - loss: 0.3846 - accuracy: 0.8631 - val_loss: 0.3926 - val_accuracy: 0.8555\n",
      "Epoch 5/10\n",
      "33/33 [==============================] - 27s 827ms/step - loss: 0.3109 - accuracy: 0.8874 - val_loss: 0.3717 - val_accuracy: 0.8789\n",
      "Epoch 6/10\n",
      "33/33 [==============================] - 28s 838ms/step - loss: 0.2724 - accuracy: 0.9049 - val_loss: 0.4560 - val_accuracy: 0.8438\n",
      "Epoch 7/10\n",
      "33/33 [==============================] - 29s 880ms/step - loss: 0.1629 - accuracy: 0.9379 - val_loss: 0.4319 - val_accuracy: 0.8750\n",
      "Epoch 8/10\n",
      "33/33 [==============================] - 28s 852ms/step - loss: 0.1861 - accuracy: 0.9379 - val_loss: 0.4452 - val_accuracy: 0.8281\n",
      "Epoch 9/10\n",
      "33/33 [==============================] - 32s 977ms/step - loss: 0.1253 - accuracy: 0.9680 - val_loss: 0.3401 - val_accuracy: 0.8945\n",
      "Epoch 10/10\n",
      "33/33 [==============================] - 28s 847ms/step - loss: 0.1056 - accuracy: 0.9621 - val_loss: 0.4097 - val_accuracy: 0.8828\n"
     ]
    }
   ],
   "source": [
    "history = model.fit(\n",
    "    train_generator,\n",
    "    steps_per_epoch = train_generator.samples // batch_size,\n",
    "    epochs = 10,\n",
    "    validation_data = validation_generator,\n",
    "    validation_steps = validation_generator.samples // batch_size\n",
    ")"
   ]
  },
  {
   "cell_type": "code",
   "execution_count": 23,
   "metadata": {},
   "outputs": [
    {
     "name": "stderr",
     "output_type": "stream",
     "text": [
      "c:\\Users\\Shubham Jadhav\\anaconda3\\lib\\site-packages\\keras\\src\\engine\\training.py:3079: UserWarning: You are saving your model as an HDF5 file via `model.save()`. This file format is considered legacy. We recommend using instead the native Keras format, e.g. `model.save('my_model.keras')`.\n",
      "  saving_api.save_model(\n"
     ]
    }
   ],
   "source": [
    "model.save('mymodel.h5')"
   ]
  },
  {
   "cell_type": "code",
   "execution_count": 25,
   "metadata": {},
   "outputs": [
    {
     "name": "stdout",
     "output_type": "stream",
     "text": [
      "1/1 [==============================] - 0s 207ms/step\n",
      "Predicted class: Sea\n",
      "Confidence: [0.03600537 0.41944432 0.5445503 ]\n"
     ]
    }
   ],
   "source": [
    "import numpy as np\n",
    "from tensorflow.keras.preprocessing import image\n",
    "\n",
    "# Load the trained model\n",
    "model = tf.keras.models.load_model('mymodel.h5')\n",
    "\n",
    "# Function to preprocess the input image\n",
    "def preprocess_image(image_path, img_size=(128, 128)):\n",
    "    img = image.load_img(image_path, target_size=img_size)\n",
    "    img_array = image.img_to_array(img)\n",
    "    img_array = np.expand_dims(img_array, axis=0)\n",
    "    img_array /= 255.0  # Normalize the image\n",
    "    return img_array\n",
    "\n",
    "# Function to make predictions\n",
    "def predict_image_class(image_path):\n",
    "    img_array = preprocess_image(image_path)\n",
    "    predictions = model.predict(img_array)\n",
    "    class_index = np.argmax(predictions)\n",
    "    \n",
    "    # Assuming class indices 0, 1, 2 correspond to Buildings, Forest, Sea\n",
    "    class_labels = {0: 'Buildings', 1: 'Forest', 2: 'Sea'}\n",
    "    predicted_class = class_labels[class_index]\n",
    "    \n",
    "    return predicted_class, predictions[0]\n",
    "\n",
    "# Test the model on a new image\n",
    "image_path_to_test = 'D:\\Personal data\\My mobile data backup\\DCIM\\Camera\\IMG_20220205_140600.jpg'  # Replace with the path to your test image\n",
    "predicted_class, confidence = predict_image_class(image_path_to_test)\n",
    "\n",
    "print(f\"Predicted class: {predicted_class}\")\n",
    "print(f\"Confidence: {confidence}\")"
   ]
  },
  {
   "cell_type": "code",
   "execution_count": null,
   "metadata": {},
   "outputs": [],
   "source": []
  }
 ],
 "metadata": {
  "kernelspec": {
   "display_name": "base",
   "language": "python",
   "name": "python3"
  },
  "language_info": {
   "codemirror_mode": {
    "name": "ipython",
    "version": 3
   },
   "file_extension": ".py",
   "mimetype": "text/x-python",
   "name": "python",
   "nbconvert_exporter": "python",
   "pygments_lexer": "ipython3",
   "version": "3.9.13"
  }
 },
 "nbformat": 4,
 "nbformat_minor": 2
}
